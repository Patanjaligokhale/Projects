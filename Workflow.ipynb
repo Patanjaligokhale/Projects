{
  "nbformat": 4,
  "nbformat_minor": 0,
  "metadata": {
    "colab": {
      "provenance": [],
      "gpuType": "T4",
      "authorship_tag": "ABX9TyMOBsMRBWZ7njl8pOdhBIsx",
      "include_colab_link": true
    },
    "kernelspec": {
      "name": "python3",
      "display_name": "Python 3"
    },
    "language_info": {
      "name": "python"
    },
    "accelerator": "GPU"
  },
  "cells": [
    {
      "cell_type": "markdown",
      "metadata": {
        "id": "view-in-github",
        "colab_type": "text"
      },
      "source": [
        "<a href=\"https://colab.research.google.com/github/Patanjaligokhale/Projects/blob/Python/Workflow.ipynb\" target=\"_parent\"><img src=\"https://colab.research.google.com/assets/colab-badge.svg\" alt=\"Open In Colab\"/></a>"
      ]
    },
    {
      "cell_type": "code",
      "execution_count": null,
      "metadata": {
        "colab": {
          "base_uri": "https://localhost:8080/",
          "height": 35
        },
        "id": "zNEM1XPNsv92",
        "outputId": "de035ef4-fabd-4a94-e183-321905c7df59"
      },
      "outputs": [
        {
          "output_type": "execute_result",
          "data": {
            "text/plain": [
              "'2.2.1+cu121'"
            ],
            "application/vnd.google.colaboratory.intrinsic+json": {
              "type": "string"
            }
          },
          "metadata": {},
          "execution_count": 17
        }
      ],
      "source": [
        "import torch\n",
        "from torch import nn # nn contains all of pytorch's blocks for neural network\n",
        "import matplotlib.pyplot as plt\n",
        "import numpy as np\n",
        "# check pytorch version\n",
        "torch.__version__"
      ]
    },
    {
      "cell_type": "code",
      "source": [
        "### Data preparation and loading\n",
        "\n",
        "#Creating *known* parameters y= a+bX\n",
        "weight = 0.7 #(b)\n",
        "bias = 0.3 #(a)\n",
        "start = 0\n",
        "end = 1\n",
        "step = 0.02\n",
        "X = torch.arange(start, end , step).unsqueeze(dim=1)\n",
        "y = weight * X + bias\n",
        "\n",
        "\n",
        "\n",
        "\n",
        "\n",
        "\n"
      ],
      "metadata": {
        "id": "AeZlL3YVv96z"
      },
      "execution_count": null,
      "outputs": []
    },
    {
      "cell_type": "markdown",
      "source": [
        "# Splitting data into training and testing sets\n",
        "\n"
      ],
      "metadata": {
        "id": "UEM_JFrZ2JEc"
      }
    },
    {
      "cell_type": "code",
      "source": [
        "# Create a train/test split\n",
        "train_split = int(0.8 * len(X))\n",
        "X_train, y_train = X[:train_split], y[:train_split]\n",
        "X_test,y_test = X[train_split:], y[train_split:]\n",
        "\n",
        "len(X_train), len(y_train), len(X_test), len(y_test)"
      ],
      "metadata": {
        "colab": {
          "base_uri": "https://localhost:8080/"
        },
        "id": "htouc3yG2Q9s",
        "outputId": "efe665ee-8c61-4035-95a8-7a1e9300e598"
      },
      "execution_count": null,
      "outputs": [
        {
          "output_type": "execute_result",
          "data": {
            "text/plain": [
              "(40, 40, 10, 10)"
            ]
          },
          "metadata": {},
          "execution_count": 19
        }
      ]
    },
    {
      "cell_type": "markdown",
      "source": [
        "## Visualize"
      ],
      "metadata": {
        "id": "7ajYKL4o5hkz"
      }
    },
    {
      "cell_type": "code",
      "source": [
        "def plot_predictions(train_data=X_train,\n",
        "                     train_labels=y_train,\n",
        "                     test_data=X_test,\n",
        "                     test_labels=y_test,\n",
        "                     predictions=None):\n",
        "  \"\"\"\n",
        "  Plots training data, test data and compares predictions.\"\"\"\n",
        "\n",
        "  plt.figure(figsize=(8,8))\n",
        "\n",
        "  #plot training data in blue\n",
        "  plt.scatter(train_data, train_labels, c=\"b\", s=4, label=\"training data\")\n",
        "\n",
        "  #plot testing data in green\n",
        "  plt.scatter(test_data,test_labels, c=\"g\", s=4, label=\"testing data\")\n",
        "\n",
        "  #Check for predictions\n",
        "  if predictions is not None:\n",
        "    plt.scatter(test_data,predictions, c=\"r\", s=4, label=\"Predictions\")\n",
        "\n",
        "  #Legend\n",
        "  plt.legend(prop={\"size\":10});\n",
        "\n"
      ],
      "metadata": {
        "id": "qd1iqP1l5glk"
      },
      "execution_count": null,
      "outputs": []
    },
    {
      "cell_type": "code",
      "source": [
        "plot_predictions();"
      ],
      "metadata": {
        "colab": {
          "base_uri": "https://localhost:8080/",
          "height": 676
        },
        "id": "pwdjIfhz88Ys",
        "outputId": "9e3bf69e-c459-437e-cfca-3f1415cf16f4"
      },
      "execution_count": null,
      "outputs": [
        {
          "output_type": "display_data",
          "data": {
            "text/plain": [
              "<Figure size 800x800 with 1 Axes>"
            ],
            "image/png": "[encoded data removed]"
          },
          "metadata": {}
        }
      ]
    },
    {
      "cell_type": "markdown",
      "source": [
        "### First PyTorch model"
      ],
      "metadata": {
        "id": "2d2g7nP-WdMm"
      }
    },
    {
      "cell_type": "code",
      "source": [
        "# Create a linear regression model class\n",
        "class LinearRegressionModel(nn.Module):\n",
        "  def __init__(self):\n",
        "    super().__init__()\n",
        "    # model paramters\n",
        "    self.weights = nn.Parameter(torch.randn(1,\n",
        "                                            requires_grad=True,\n",
        "                                            dtype=torch.float))\n",
        "    self.bias = nn.Parameter(torch.randn(1,\n",
        "                                         requires_grad=True,\n",
        "                                         dtype=torch.float))\n",
        "\n",
        "    # Forward method to define the computation in the model\n",
        "  def forward(self, x:torch.Tensor) -> torch.Tensor:\n",
        "    return self.weights * x + self.bias\n",
        "# If you have a nn.Module you should also have a forward method"
      ],
      "metadata": {
        "id": "QqYzAWsnWlde"
      },
      "execution_count": null,
      "outputs": []
    },
    {
      "cell_type": "markdown",
      "source": [
        "###Pytorch module essentials\n",
        "\n",
        "\n",
        "*    ***torch.nn*** - contains all the building blocks for the computational graphs.\n",
        "*   ***torch.nn.Parameter*** - what parameters should our model try and learn, often a pytorch layer from torch.nn will set these for us.\n",
        "*  ***torch.nn.Module*** - The base class for all neural network modules,if you have this you also need an Forward() method.\n",
        "*  ***def forward()*** - All nn.Module subclasses require you to write this method as it defines what happens in the forward computation, in the above case it returns the computation of the basic linear regression eqn, y = a + b*X.\n",
        "\n",
        "\n"
      ],
      "metadata": {
        "id": "sCrxiqrId8z5"
      }
    },
    {
      "cell_type": "code",
      "source": [
        "# creating a random seed\n",
        "torch.manual_seed(42)\n",
        "\n",
        "#Creating an instance of a model\n",
        "model_0 = LinearRegressionModel()\n",
        "#Check parameters\n",
        "list(model_0.parameters())\n"
      ],
      "metadata": {
        "colab": {
          "base_uri": "https://localhost:8080/"
        },
        "id": "X6Wk3VU3g5r1",
        "outputId": "72e8c719-ff65-4e95-ca10-51846dfcca06"
      },
      "execution_count": null,
      "outputs": [
        {
          "output_type": "execute_result",
          "data": {
            "text/plain": [
              "[Parameter containing:\n",
              " tensor([0.3367], requires_grad=True),\n",
              " Parameter containing:\n",
              " tensor([0.1288], requires_grad=True)]"
            ]
          },
          "metadata": {},
          "execution_count": 23
        }
      ]
    },
    {
      "cell_type": "markdown",
      "source": [
        "### Making predictions using torch.inference_mode()"
      ],
      "metadata": {
        "id": "ZPu1ifPkW13a"
      }
    },
    {
      "cell_type": "code",
      "source": [
        "with torch.inference_mode():\n",
        "  y_preds = model_0(X_test)\n",
        "\n",
        "y_preds, y_test\n",
        "plot_predictions(predictions=y_preds)"
      ],
      "metadata": {
        "colab": {
          "base_uri": "https://localhost:8080/",
          "height": 676
        },
        "id": "9uFlQc2iV2ti",
        "outputId": "4052ecec-a94f-454c-eed3-460b41962e61"
      },
      "execution_count": null,
      "outputs": [
        {
          "output_type": "display_data",
          "data": {
            "text/plain": [
              "<Figure size 800x800 with 1 Axes>"
            ],
            "image/png": "[encoded data removed]"
          },
          "metadata": {}
        }
      ]
    },
    {
      "cell_type": "markdown",
      "source": [
        "## Train model:\n",
        "\n",
        "### #Things needed to train models:\n",
        "\n",
        "*   Loss Function - one way to measure how wrong the model's predictions are to use loss functions\n",
        "\n",
        "*  Optimizer - Takes into account the loss of a model and adjusts the model's parameters(eg. weight and bias) to improve the loss function.\n",
        "\n",
        "and we need the following in pytorch:\n",
        "* A training loop\n",
        "* A testing loop\n",
        "\n"
      ],
      "metadata": {
        "id": "cSHmJAHmdos7"
      }
    },
    {
      "cell_type": "code",
      "source": [
        "list(model_0.parameters())"
      ],
      "metadata": {
        "colab": {
          "base_uri": "https://localhost:8080/"
        },
        "id": "mc7Pi4Q-egZE",
        "outputId": "7649580e-3276-4c57-c6a0-244950c08a9d"
      },
      "execution_count": null,
      "outputs": [
        {
          "output_type": "execute_result",
          "data": {
            "text/plain": [
              "[Parameter containing:\n",
              " tensor([0.3367], requires_grad=True),\n",
              " Parameter containing:\n",
              " tensor([0.1288], requires_grad=True)]"
            ]
          },
          "metadata": {},
          "execution_count": 25
        }
      ]
    },
    {
      "cell_type": "code",
      "source": [
        "model_0.state_dict()"
      ],
      "metadata": {
        "colab": {
          "base_uri": "https://localhost:8080/"
        },
        "id": "1XF_8qGMhdRr",
        "outputId": "db1ebf90-2428-4f20-f7ce-b3f407e5d0ec"
      },
      "execution_count": null,
      "outputs": [
        {
          "output_type": "execute_result",
          "data": {
            "text/plain": [
              "OrderedDict([('weights', tensor([0.3367])), ('bias', tensor([0.1288]))])"
            ]
          },
          "metadata": {},
          "execution_count": 26
        }
      ]
    },
    {
      "cell_type": "code",
      "source": [
        "# setting up loss function\n",
        "loss_fn = nn.L1Loss()\n",
        "\n",
        "#setting an optimizer(Stoichastic Gradient descent)\n",
        "optimizer = torch.optim.SGD(params = model_0.parameters(),\n",
        "                            lr=0.01)\n"
      ],
      "metadata": {
        "id": "U9xQaoOfOkqk"
      },
      "execution_count": null,
      "outputs": []
    },
    {
      "cell_type": "markdown",
      "source": [
        "### Building the training and testing loop\n",
        "\n",
        "Steps in training loop:\n",
        "\n",
        "* Loop through the data\n",
        "* Forward pass(involves data moving through the function defined by us) to make predictions.\n",
        "* Calculate the loss(compare forward pass predictions to actual values).\n",
        "* Optimizer zero grad\n",
        "* Loss backward\n",
        "* Optimzer step"
      ],
      "metadata": {
        "id": "SfdO4VzCW0qj"
      }
    },
    {
      "cell_type": "code",
      "source": [
        "epochs = 200 # an epoch is one loop through the data\n",
        "\n",
        "#for tracking values\n",
        "epoch_count = []\n",
        "loss_values = []\n",
        "test_loss_values = []\n",
        "\n",
        "\n",
        "#0. Loop through the data\n",
        "for epoch in range(epochs) :\n",
        "  # set the model to training mode\n",
        "  model_0.train()\n",
        "  #1. Forward pass\n",
        "  y_pred = model_0(X_train)\n",
        "\n",
        "  #2. loss calculation\n",
        "  loss= loss_fn(y_pred, y_train)\n",
        "  #print(f\"Loss:{loss}\")\n",
        "\n",
        "  #3. Optimizer\n",
        "  optimizer.zero_grad()\n",
        "\n",
        "  #4. Backpropogation\n",
        "  loss.backward()\n",
        "\n",
        "  #5. Step the optimizer(perform gradient descent)\n",
        "  optimizer.step()\n",
        "\n",
        "  #6 Printing out model state\n",
        "  if epoch % 10 == 0:\n",
        "    print(model_0.state_dict())\n",
        "\n",
        "\n",
        "  ## Testing\n",
        "  model_0.eval()# turns off different settings in the model that aren't needed\n",
        "  with torch.inference_mode():    # turns off the gradient tracking\n",
        "    # 1. Do the forward pass\n",
        "    test_pred = model_0(X_test)\n",
        "\n",
        "    #2. Loss calculation\n",
        "    test_loss = loss_fn(test_pred, y_test)\n",
        "\n",
        "    #print out the progress\n",
        "    if epoch % 10 == 0:\n",
        "      epoch_count.append(epoch)\n",
        "      loss_values.append(loss)\n",
        "      test_loss_values.append(test_loss)\n",
        "      print(f\"Epoch:{epoch} | Test:{loss}| Test loss:{test_loss}\")\n"
      ],
      "metadata": {
        "colab": {
          "base_uri": "https://localhost:8080/"
        },
        "id": "vrCFrx6IgAG1",
        "outputId": "e4d99d6f-62d6-44d0-d861-cd4ab8c50ca9"
      },
      "execution_count": null,
      "outputs": [
        {
          "output_type": "stream",
          "name": "stdout",
          "text": [
            "OrderedDict([('weights', tensor([0.3406])), ('bias', tensor([0.1388]))])\n",
            "Epoch:0 | Test:0.31288138031959534| Test loss:0.48106518387794495\n",
            "OrderedDict([('weights', tensor([0.3796])), ('bias', tensor([0.2388]))])\n",
            "Epoch:10 | Test:0.1976713240146637| Test loss:0.3463551998138428\n",
            "OrderedDict([('weights', tensor([0.4184])), ('bias', tensor([0.3333]))])\n",
            "Epoch:20 | Test:0.08908725529909134| Test loss:0.21729660034179688\n",
            "OrderedDict([('weights', tensor([0.4512])), ('bias', tensor([0.3768]))])\n",
            "Epoch:30 | Test:0.053148526698350906| Test loss:0.14464017748832703\n",
            "OrderedDict([('weights', tensor([0.4748])), ('bias', tensor([0.3868]))])\n",
            "Epoch:40 | Test:0.04543796554207802| Test loss:0.11360953003168106\n",
            "OrderedDict([('weights', tensor([0.4938])), ('bias', tensor([0.3843]))])\n",
            "Epoch:50 | Test:0.04167863354086876| Test loss:0.09919948130846024\n",
            "OrderedDict([('weights', tensor([0.5116])), ('bias', tensor([0.3788]))])\n",
            "Epoch:60 | Test:0.03818932920694351| Test loss:0.08886633068323135\n",
            "OrderedDict([('weights', tensor([0.5288])), ('bias', tensor([0.3718]))])\n",
            "Epoch:70 | Test:0.03476089984178543| Test loss:0.0805937647819519\n",
            "OrderedDict([('weights', tensor([0.5459])), ('bias', tensor([0.3648]))])\n",
            "Epoch:80 | Test:0.03132382780313492| Test loss:0.07232122868299484\n",
            "OrderedDict([('weights', tensor([0.5629])), ('bias', tensor([0.3573]))])\n",
            "Epoch:90 | Test:0.02788739837706089| Test loss:0.06473556160926819\n",
            "OrderedDict([('weights', tensor([0.5800])), ('bias', tensor([0.3503]))])\n",
            "Epoch:100 | Test:0.024458957836031914| Test loss:0.05646304413676262\n",
            "OrderedDict([('weights', tensor([0.5972])), ('bias', tensor([0.3433]))])\n",
            "Epoch:110 | Test:0.021020207554101944| Test loss:0.04819049686193466\n",
            "OrderedDict([('weights', tensor([0.6141])), ('bias', tensor([0.3358]))])\n",
            "Epoch:120 | Test:0.01758546568453312| Test loss:0.04060482233762741\n",
            "OrderedDict([('weights', tensor([0.6313])), ('bias', tensor([0.3288]))])\n",
            "Epoch:130 | Test:0.014155393466353416| Test loss:0.03233227878808975\n",
            "OrderedDict([('weights', tensor([0.6485])), ('bias', tensor([0.3218]))])\n",
            "Epoch:140 | Test:0.010716589167714119| Test loss:0.024059748277068138\n",
            "OrderedDict([('weights', tensor([0.6654])), ('bias', tensor([0.3143]))])\n",
            "Epoch:150 | Test:0.0072835334576666355| Test loss:0.016474086791276932\n",
            "OrderedDict([('weights', tensor([0.6826])), ('bias', tensor([0.3073]))])\n",
            "Epoch:160 | Test:0.0038517764769494534| Test loss:0.008201557211577892\n",
            "OrderedDict([('weights', tensor([0.6951])), ('bias', tensor([0.2993]))])\n",
            "Epoch:170 | Test:0.008932482451200485| Test loss:0.005023092031478882\n",
            "OrderedDict([('weights', tensor([0.6951])), ('bias', tensor([0.2993]))])\n",
            "Epoch:180 | Test:0.008932482451200485| Test loss:0.005023092031478882\n",
            "OrderedDict([('weights', tensor([0.6951])), ('bias', tensor([0.2993]))])\n",
            "Epoch:190 | Test:0.008932482451200485| Test loss:0.005023092031478882\n"
          ]
        }
      ]
    },
    {
      "cell_type": "code",
      "source": [
        "with torch.inference_mode():\n",
        "  y_preds_new = model_0(X_test)"
      ],
      "metadata": {
        "id": "g0XCesrzN2i2"
      },
      "execution_count": null,
      "outputs": []
    },
    {
      "cell_type": "code",
      "source": [
        "plot_predictions(predictions=y_preds)"
      ],
      "metadata": {
        "id": "pf6VGLwxIL_p",
        "colab": {
          "base_uri": "https://localhost:8080/",
          "height": 676
        },
        "outputId": "b307bc61-6276-44a2-c6c0-6daabef45b4b"
      },
      "execution_count": null,
      "outputs": [
        {
          "output_type": "display_data",
          "data": {
            "text/plain": [
              "<Figure size 800x800 with 1 Axes>"
            ],
            "image/png": "[encoded data removed]"
          },
          "metadata": {}
        }
      ]
    },
    {
      "cell_type": "code",
      "source": [
        "plot_predictions(predictions=y_preds_new); #reducing error betwwen ideal outcomes and model's predictioins using backpropogation and gradient descent"
      ],
      "metadata": {
        "colab": {
          "base_uri": "https://localhost:8080/",
          "height": 676
        },
        "id": "R-TTcYlJPtQ7",
        "outputId": "76738324-9313-4bbc-ce87-8ecb8abe55f1"
      },
      "execution_count": null,
      "outputs": [
        {
          "output_type": "display_data",
          "data": {
            "text/plain": [
              "<Figure size 800x800 with 1 Axes>"
            ],
            "image/png": "[encoded data removed]"
          },
          "metadata": {}
        }
      ]
    },
    {
      "cell_type": "code",
      "source": [
        "#Plot loss curves\n",
        "plt.plot(epoch_count, np.array(torch.tensor(loss_values).numpy()), label=\"Training loss\")\n",
        "plt.plot(epoch_count, test_loss_values, label=\"Testing loss\")\n",
        "plt.title(\"Training and Testing loss curves\")\n",
        "plt.xlabel(\"Epochs\")\n",
        "plt.ylabel(\"Loss\")\n",
        "plt.legend();"
      ],
      "metadata": {
        "id": "PMPLerVrTls7",
        "colab": {
          "base_uri": "https://localhost:8080/",
          "height": 472
        },
        "outputId": "a7ec5c18-7212-4a99-c143-35b71fab58d5"
      },
      "execution_count": null,
      "outputs": [
        {
          "output_type": "display_data",
          "data": {
            "text/plain": [
              "<Figure size 640x480 with 1 Axes>"
            ],
            "image/png": "[encoded data removed]"
          },
          "metadata": {}
        }
      ]
    },
    {
      "cell_type": "markdown",
      "source": [
        "### Saving and loading a model in PyTorch\n",
        "\n",
        "Three main ways to save a model:\n",
        "1. torch.save()- allows you to save a pytorch object in Python's pickle format.\n",
        "2. torch.load() - loading the PyTorch model.\n",
        "3. torch.nn.module.load_state_dict() - allows you to load a model's saved state dictionary."
      ],
      "metadata": {
        "id": "ev3t_VmW1Hs4"
      }
    },
    {
      "cell_type": "code",
      "source": [
        "# Saving the PyTorch model\n",
        "from pathlib import Path\n",
        "\n",
        "# 1.Create models directory\n",
        "MODEL_PATH = Path(\"models\")\n",
        "MODEL_PATH.mkdir(parents = True, exist_ok=True)    #mkdir-> make a new directory\n",
        "\n",
        "# 2. Create model sdave path\n",
        "MODEL_NAME = \"01_pytorch_workflow_model_0.pth\"  #.pth or .pt common convention for pytorch files\n",
        "MODEL_SAVE_PATH = MODEL_PATH / MODEL_NAME  # actual path\n",
        "\n",
        "# 3. Save the model using \"state dict\"\n",
        "print(f\"Saving model to: {MODEL_SAVE_PATH}\")\n",
        "torch.save(obj=model_0.state_dict(),\n",
        "           f=MODEL_SAVE_PATH)"
      ],
      "metadata": {
        "colab": {
          "base_uri": "https://localhost:8080/"
        },
        "id": "nxXeRvcg2aLG",
        "outputId": "7b518344-2d63-43ac-a36f-e76947738865"
      },
      "execution_count": null,
      "outputs": [
        {
          "output_type": "stream",
          "name": "stdout",
          "text": [
            "Saving model to: models/01_pytorch_workflow_model_0.pth\n"
          ]
        }
      ]
    },
    {
      "cell_type": "markdown",
      "source": [
        "##Loading"
      ],
      "metadata": {
        "id": "a6LyW7kn4tPL"
      }
    },
    {
      "cell_type": "code",
      "source": [
        "# To load in a saved state_dict we have to instantiate a new instance of our model\n",
        "loaded_model_0 = LinearRegressionModel()\n",
        "\n",
        "# Loading the saved state_dict of model_0(this will update the new instance with the updated parameters)\n",
        "loaded_model_0.load_state_dict(torch.load(f=MODEL_SAVE_PATH))"
      ],
      "metadata": {
        "colab": {
          "base_uri": "https://localhost:8080/"
        },
        "id": "91OzAPG0_wgo",
        "outputId": "c54ccb1a-6c14-44c3-dc0c-e7e3e33397e7"
      },
      "execution_count": null,
      "outputs": [
        {
          "output_type": "execute_result",
          "data": {
            "text/plain": [
              "<All keys matched successfully>"
            ]
          },
          "metadata": {},
          "execution_count": 34
        }
      ]
    },
    {
      "cell_type": "code",
      "source": [
        "loaded_model_0.state_dict()"
      ],
      "metadata": {
        "colab": {
          "base_uri": "https://localhost:8080/"
        },
        "id": "1HGBE1NUBh-A",
        "outputId": "4dd15007-518e-488a-bdb0-3482437f3f9e"
      },
      "execution_count": null,
      "outputs": [
        {
          "output_type": "execute_result",
          "data": {
            "text/plain": [
              "OrderedDict([('weights', tensor([0.6990])), ('bias', tensor([0.3093]))])"
            ]
          },
          "metadata": {},
          "execution_count": 35
        }
      ]
    },
    {
      "cell_type": "code",
      "source": [
        "#Making predictions on the loaded model\n",
        "loaded_model_0.eval()\n",
        "with torch.inference_mode():\n",
        "  loaded_model_preds = loaded_model_0(X_test)\n",
        "\n",
        "loaded_model_preds"
      ],
      "metadata": {
        "colab": {
          "base_uri": "https://localhost:8080/"
        },
        "id": "-BVr_2wmCR-f",
        "outputId": "0143512f-ba1d-4171-8b6e-3b6d617cb04a"
      },
      "execution_count": null,
      "outputs": [
        {
          "output_type": "execute_result",
          "data": {
            "text/plain": [
              "tensor([[0.8685],\n",
              "        [0.8825],\n",
              "        [0.8965],\n",
              "        [0.9105],\n",
              "        [0.9245],\n",
              "        [0.9384],\n",
              "        [0.9524],\n",
              "        [0.9664],\n",
              "        [0.9804],\n",
              "        [0.9944]])"
            ]
          },
          "metadata": {},
          "execution_count": 36
        }
      ]
    },
    {
      "cell_type": "code",
      "source": [
        "#Comparing the loaded model with the orignal model predictions\n",
        "loaded_model_preds == test_pred"
      ],
      "metadata": {
        "colab": {
          "base_uri": "https://localhost:8080/"
        },
        "id": "RLZ-SIQDDKmR",
        "outputId": "5574abfa-5564-44f9-d7d2-1a9d6c4d9bc0"
      },
      "execution_count": null,
      "outputs": [
        {
          "output_type": "execute_result",
          "data": {
            "text/plain": [
              "tensor([[True],\n",
              "        [True],\n",
              "        [True],\n",
              "        [True],\n",
              "        [True],\n",
              "        [True],\n",
              "        [True],\n",
              "        [True],\n",
              "        [True],\n",
              "        [True]])"
            ]
          },
          "metadata": {},
          "execution_count": 37
        }
      ]
    },
    {
      "cell_type": "markdown",
      "source": [
        "### Practising the above steps\n"
      ],
      "metadata": {
        "id": "J2Pct06kHY5F"
      }
    },
    {
      "cell_type": "code",
      "source": [
        "# Creating some linear data\n",
        "\n",
        "weight=0.5\n",
        "bias = 0.5\n",
        "\n",
        "#Creating range values\n",
        "start = 0\n",
        "end = 1\n",
        "step = 0.02\n",
        "\n",
        "# Creating features and labels\n",
        "X = torch.arange(start, end, step).unsqueeze(dim=1)\n",
        "y = weight * X + bias\n"
      ],
      "metadata": {
        "id": "qCJP40asH6CE"
      },
      "execution_count": null,
      "outputs": []
    },
    {
      "cell_type": "code",
      "source": [
        "device = \"cuda\" if torch.cuda.is_available() else \"cpu\"\n",
        "print(f\"device: {device}\")"
      ],
      "metadata": {
        "colab": {
          "base_uri": "https://localhost:8080/"
        },
        "id": "JKXr8StSH_rO",
        "outputId": "53ec4add-90fa-4f49-9b1a-c7e09b1bc613"
      },
      "execution_count": null,
      "outputs": [
        {
          "output_type": "stream",
          "name": "stdout",
          "text": [
            "device: cuda\n"
          ]
        }
      ]
    },
    {
      "cell_type": "code",
      "source": [
        "#data splitting\n",
        "train_split = int(0.8 * len(X))\n",
        "X_train, y_train = X[:train_split], y[:train_split]\n",
        "X_test, y_test = X[train_split:], y[train_split:]\n",
        "\n",
        "len(X_train), len(y_train), len(X_test), len(y_test)"
      ],
      "metadata": {
        "colab": {
          "base_uri": "https://localhost:8080/"
        },
        "id": "9YV_w4eoLVrm",
        "outputId": "5caf10fb-20b3-43cf-c4af-71b3dc23c6d3"
      },
      "execution_count": null,
      "outputs": [
        {
          "output_type": "execute_result",
          "data": {
            "text/plain": [
              "(40, 40, 10, 10)"
            ]
          },
          "metadata": {},
          "execution_count": 40
        }
      ]
    },
    {
      "cell_type": "code",
      "source": [
        "#visualizing\n",
        "#plot_predictions();\n"
      ],
      "metadata": {
        "id": "7zXQN3LeMYmt"
      },
      "execution_count": null,
      "outputs": []
    },
    {
      "cell_type": "code",
      "source": [
        "class LinearRegressionModelV2(nn.Module):\n",
        "  def __init__(self):\n",
        "    super().__init__()\n",
        "    #Using nn.Linear() for creating model parameters\n",
        "    self.linear_layer = nn.Linear(in_features = 1,\n",
        "                                  out_features = 1)\n",
        "    # Forward method\n",
        "  def forward(self, x: torch.Tensor) -> torch.Tensor:\n",
        "    return self.linear_layer(x)\n",
        "\n",
        "torch.manual_seed(42)\n",
        "model_1 = LinearRegressionModelV2()\n",
        "model_1, model_1.state_dict()"
      ],
      "metadata": {
        "id": "EhvxcJg0sLzw",
        "colab": {
          "base_uri": "https://localhost:8080/"
        },
        "outputId": "73bef37b-63d6-48d3-e3fc-a7b7288eb722"
      },
      "execution_count": null,
      "outputs": [
        {
          "output_type": "execute_result",
          "data": {
            "text/plain": [
              "(LinearRegressionModelV2(\n",
              "   (linear_layer): Linear(in_features=1, out_features=1, bias=True)\n",
              " ),\n",
              " OrderedDict([('linear_layer.weight', tensor([[0.7645]])),\n",
              "              ('linear_layer.bias', tensor([0.8300]))]))"
            ]
          },
          "metadata": {},
          "execution_count": 42
        }
      ]
    },
    {
      "cell_type": "code",
      "source": [
        "#next(model_1.parameters()).device\n",
        "model_1.to(device)\n",
        "next(model_1.parameters()).device"
      ],
      "metadata": {
        "colab": {
          "base_uri": "https://localhost:8080/"
        },
        "id": "wCY_Ug22x_46",
        "outputId": "7f79b3c7-f6e7-4e0d-8ae0-c56f3eb4262f"
      },
      "execution_count": null,
      "outputs": [
        {
          "output_type": "execute_result",
          "data": {
            "text/plain": [
              "device(type='cuda', index=0)"
            ]
          },
          "metadata": {},
          "execution_count": 43
        }
      ]
    },
    {
      "cell_type": "code",
      "source": [
        "# Loss fn new\n",
        "loss_fn = nn.L1Loss()\n",
        "\n",
        "#optimizer\n",
        "optimizer = torch.optim.SGD(params=model_1.parameters(),\n",
        "                            lr=0.01)"
      ],
      "metadata": {
        "id": "-ERhnR7SymQt"
      },
      "execution_count": null,
      "outputs": []
    },
    {
      "cell_type": "code",
      "source": [
        "# setting the number of epochs\n",
        "epochs = 1000\n",
        "\n",
        "X_train = X_train.to(device)\n",
        "y_train = y_train.to(device)\n",
        "X_test = X_test.to(device)\n",
        "y_test = y_test.to(device)\n",
        "\n",
        "for epoch in range(epochs):\n",
        "  #train\n",
        "  model_1.train()\n",
        "\n",
        "  #1. forward pass\n",
        "  y_pred = model_1(X_train)\n",
        "\n",
        "  #2. Calculating the loss\n",
        "  loss = loss_fn(y_pred, y_train)\n",
        "\n",
        "  #3. optimizer zero_gradient\n",
        "  optimizer.zero_grad()\n",
        "\n",
        "  #4. backward loss\n",
        "  loss.backward()\n",
        "\n",
        "  #5. optimizer step\n",
        "  optimizer.step()\n",
        "\n",
        "\n",
        "  ## Testing\n",
        "  model_1.eval()\n",
        "\n",
        "  with torch.inference_mode():\n",
        "\n",
        "    #1. Forward pass\n",
        "    test_preds = model_1(X_test)\n",
        "\n",
        "    #2. Calculate the loss\n",
        "    test_loss = loss_fn(test_preds, y_test)\n",
        "\n",
        "  if epoch %100 ==0:\n",
        "    print(f\"Epoch: {epoch} | Train loss = {loss} | Test loss = {test_loss}\" )\n"
      ],
      "metadata": {
        "colab": {
          "base_uri": "https://localhost:8080/"
        },
        "id": "NbDAm49V0K3l",
        "outputId": "05964df7-5ca3-419d-f4c0-cbdd2f1d1eea"
      },
      "execution_count": null,
      "outputs": [
        {
          "output_type": "stream",
          "name": "stdout",
          "text": [
            "Epoch: 0 | Train loss = 0.4331779479980469 | Test loss = 0.551976203918457\n",
            "Epoch: 100 | Train loss = 0.001309715211391449 | Test loss = 0.0015560031170025468\n",
            "Epoch: 200 | Train loss = 0.003234918462112546 | Test loss = 0.008021748624742031\n",
            "Epoch: 300 | Train loss = 0.003234918462112546 | Test loss = 0.008021748624742031\n",
            "Epoch: 400 | Train loss = 0.003234918462112546 | Test loss = 0.008021748624742031\n",
            "Epoch: 500 | Train loss = 0.003234918462112546 | Test loss = 0.008021748624742031\n",
            "Epoch: 600 | Train loss = 0.003234918462112546 | Test loss = 0.008021748624742031\n",
            "Epoch: 700 | Train loss = 0.003234918462112546 | Test loss = 0.008021748624742031\n",
            "Epoch: 800 | Train loss = 0.003234918462112546 | Test loss = 0.008021748624742031\n",
            "Epoch: 900 | Train loss = 0.003234918462112546 | Test loss = 0.008021748624742031\n"
          ]
        }
      ]
    },
    {
      "cell_type": "code",
      "source": [],
      "metadata": {
        "id": "BoCkac5D40g_"
      },
      "execution_count": null,
      "outputs": []
    }
  ]
}