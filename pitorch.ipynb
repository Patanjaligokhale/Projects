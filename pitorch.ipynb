{
  "nbformat": 4,
  "nbformat_minor": 0,
  "metadata": {
    "colab": {
      "provenance": [],
      "authorship_tag": "ABX9TyNoUrD1DrYy7wAUc/Bp4MT2",
      "include_colab_link": true
    },
    "kernelspec": {
      "name": "python3",
      "display_name": "Python 3"
    },
    "language_info": {
      "name": "python"
    }
  },
  "cells": [
    {
      "cell_type": "markdown",
      "metadata": {
        "id": "view-in-github",
        "colab_type": "text"
      },
      "source": [
        "<a href=\"https://colab.research.google.com/github/Patanjaligokhale/Projects/blob/main/pitorch.ipynb\" target=\"_parent\"><img src=\"https://colab.research.google.com/assets/colab-badge.svg\" alt=\"Open In Colab\"/></a>"
      ]
    },
    {
      "cell_type": "code",
      "execution_count": null,
      "metadata": {
        "colab": {
          "base_uri": "https://localhost:8080/",
          "height": 36
        },
        "id": "ZGiTm0k5Fr06",
        "outputId": "f5a8ede5-7b65-4682-d01f-de76c3246535"
      },
      "outputs": [
        {
          "output_type": "execute_result",
          "data": {
            "text/plain": [
              "'2.2.1+cu121'"
            ],
            "application/vnd.google.colaboratory.intrinsic+json": {
              "type": "string"
            }
          },
          "metadata": {},
          "execution_count": 1
        }
      ],
      "source": [
        "import torch\n",
        "torch.__version__\n"
      ]
    },
    {
      "cell_type": "code",
      "source": [
        "#scalar= torch.tensor(6)\n",
        "#scalar.ndim\n",
        "#vector = torch.tensor([6.6])\n",
        "#vector.shape\n",
        "matrix= torch.tensor([[1,2],[3,4]])\n",
        "matrix.ndim\n",
        "matrix.shape"
      ],
      "metadata": {
        "colab": {
          "base_uri": "https://localhost:8080/"
        },
        "id": "sqtriVGUkgJy",
        "outputId": "314260e7-fd28-40a6-a579-f64c7a5a84b4"
      },
      "execution_count": null,
      "outputs": [
        {
          "output_type": "execute_result",
          "data": {
            "text/plain": [
              "torch.Size([2, 2])"
            ]
          },
          "metadata": {},
          "execution_count": 8
        }
      ]
    },
    {
      "cell_type": "code",
      "source": [
        "randomtensor = torch.rand(size=(3,3))\n",
        "randomtensor, randomtensor.dtype, randomtensor.ndim"
      ],
      "metadata": {
        "colab": {
          "base_uri": "https://localhost:8080/"
        },
        "id": "XMVT_Y5uQm4c",
        "outputId": "9e6596c2-3099-439f-8192-28f6c230e212"
      },
      "execution_count": null,
      "outputs": [
        {
          "output_type": "execute_result",
          "data": {
            "text/plain": [
              "(tensor([[0.5512, 0.0613, 0.6620],\n",
              "         [0.8196, 0.4384, 0.1608],\n",
              "         [0.8022, 0.2443, 0.4824]]),\n",
              " torch.float32,\n",
              " 2)"
            ]
          },
          "metadata": {},
          "execution_count": 9
        }
      ]
    },
    {
      "cell_type": "markdown",
      "source": [],
      "metadata": {
        "id": "WKsnY_r8xzsh"
      }
    },
    {
      "cell_type": "code",
      "source": [
        "some_tensor= torch.rand(3,4)\n",
        "print (some_tensor)\n",
        "print(f\"shape of tensor: {some_tensor.shape}\")\n",
        "print(f\"datatype of tensor: {some_tensor.dtype}\")\n",
        "print(f\"device temsor is stored on:{some_tensor.device}\")"
      ],
      "metadata": {
        "colab": {
          "base_uri": "https://localhost:8080/"
        },
        "id": "gw7uNlJuqONO",
        "outputId": "29a0cbc8-880c-4739-e8e3-3584ca9eaae2"
      },
      "execution_count": null,
      "outputs": [
        {
          "output_type": "stream",
          "name": "stdout",
          "text": [
            "tensor([[3.3593e-02, 3.3102e-01, 3.0029e-01, 7.2674e-02],\n",
            "        [3.4976e-01, 5.2121e-01, 9.5396e-01, 1.9107e-01],\n",
            "        [7.3242e-04, 9.9857e-01, 8.0161e-01, 3.3856e-01]])\n",
            "shape of tensor: torch.Size([3, 4])\n",
            "datatype of tensor: torch.float32\n",
            "device temsor is stored on:cpu\n"
          ]
        }
      ]
    },
    {
      "cell_type": "code",
      "source": [
        "tensor= torch.tensor([1,2,3])\n",
        "#print(f\"{tensor+10}\")\n",
        "#tensor = tensor-10\n",
        "#torch.mul(tensor,10)\n",
        "#print(tensor,\"*\",tensor)\n",
        "#print(\"equals:\", tensor*tensor)\n",
        "tensor.shape\n",
        "tensor.matmul(tensor)"
      ],
      "metadata": {
        "colab": {
          "base_uri": "https://localhost:8080/"
        },
        "id": "A2nMXN0qziUl",
        "outputId": "652c49ad-e772-4739-f7c1-c85f49ac9764"
      },
      "execution_count": null,
      "outputs": [
        {
          "output_type": "execute_result",
          "data": {
            "text/plain": [
              "tensor(14)"
            ]
          },
          "metadata": {},
          "execution_count": 19
        }
      ]
    },
    {
      "cell_type": "code",
      "source": [
        "tensor_A = torch.tensor([[1,2],\n",
        "                         [3,4],\n",
        "                         [5,6]], dtype= torch.float32)\n",
        "tensor_B = torch.tensor([[7,10],\n",
        "                       [8,11],\n",
        "                       [9,12]], dtype=torch.float32)\n",
        "print(tensor_A)\n",
        "print(tensor_B.T)\n",
        "torch.mm(tensor_A, tensor_B.T)"
      ],
      "metadata": {
        "colab": {
          "base_uri": "https://localhost:8080/"
        },
        "id": "c841SmPW5KTE",
        "outputId": "f2d8f985-5e11-4b1e-bc0b-9a1f5db24039"
      },
      "execution_count": null,
      "outputs": [
        {
          "output_type": "stream",
          "name": "stdout",
          "text": [
            "tensor([[1., 2.],\n",
            "        [3., 4.],\n",
            "        [5., 6.]])\n",
            "tensor([[ 7.,  8.,  9.],\n",
            "        [10., 11., 12.]])\n"
          ]
        },
        {
          "output_type": "execute_result",
          "data": {
            "text/plain": [
              "tensor([[ 27.,  30.,  33.],\n",
              "        [ 61.,  68.,  75.],\n",
              "        [ 95., 106., 117.]])"
            ]
          },
          "metadata": {},
          "execution_count": 2
        }
      ]
    },
    {
      "cell_type": "code",
      "source": [
        "torch.manual_seed(42)\n",
        "linear = torch.nn.Linear(in_features=2, out_features=6)\n",
        "\n",
        "#x = tensor_A\n",
        "output = linear(x)\n",
        "print(f\"Input shape: {x.shape}\\n\")\n",
        "print(f\"Output: {output}\")\n"
      ],
      "metadata": {
        "colab": {
          "base_uri": "https://localhost:8080/"
        },
        "id": "FU9I3NahiJxR",
        "outputId": "3ca18e7c-06a3-4f94-8c39-49397acab8df"
      },
      "execution_count": null,
      "outputs": [
        {
          "output_type": "stream",
          "name": "stdout",
          "text": [
            "Input shape: torch.Size([3, 2])\n",
            "\n",
            "Output: tensor([[2.2368, 1.2292, 0.4714, 0.3864, 0.1309, 0.9838],\n",
            "        [4.4919, 2.1970, 0.4469, 0.5285, 0.3401, 2.4777],\n",
            "        [6.7469, 3.1648, 0.4224, 0.6705, 0.5493, 3.9716]],\n",
            "       grad_fn=<AddmmBackward0>)\n"
          ]
        }
      ]
    },
    {
      "cell_type": "code",
      "source": [
        "x = torch.arange(0, 100, 10)\n",
        "\n",
        "print(f\"min: {x.min()}\")\n",
        "print(f\"max:{x.max()}\")\n",
        "print(f\"sum: {x.sum()}\")\n",
        "print(f\"mean: {x.type(torch.float32).mean()}\")\n"
      ],
      "metadata": {
        "colab": {
          "base_uri": "https://localhost:8080/"
        },
        "id": "LwEbCEHtjt8-",
        "outputId": "1784445c-ff6d-41af-bab8-a081e6e8f243"
      },
      "execution_count": null,
      "outputs": [
        {
          "output_type": "stream",
          "name": "stdout",
          "text": [
            "min: 0\n",
            "max:90\n",
            "sum: 450\n",
            "mean: 45.0\n"
          ]
        }
      ]
    },
    {
      "cell_type": "code",
      "source": [
        "x= torch.arange(1.,8.)\n",
        "x_stacked = torch.stack([x,x,x],dim=0)\n",
        "#x_stacked"
      ],
      "metadata": {
        "id": "yFuytJRwpJRp"
      },
      "execution_count": null,
      "outputs": []
    },
    {
      "cell_type": "code",
      "source": [
        "x= torch.arange(1,10).reshape(1,3,3)\n",
        "print(f\"First sqauare bracket:{x[0]}\")\n",
        "print(f\"2nd square bracket:{x[0][0]}\")\n",
        "print(f\"3rd square bracket:{x[0][0][0]}\")\n"
      ],
      "metadata": {
        "colab": {
          "base_uri": "https://localhost:8080/"
        },
        "id": "vFx6k61PfZAY",
        "outputId": "ecee40f5-2705-44db-b5d1-2a74b7fe2f49"
      },
      "execution_count": null,
      "outputs": [
        {
          "output_type": "stream",
          "name": "stdout",
          "text": [
            "First sqauare bracket:tensor([[1, 2, 3],\n",
            "        [4, 5, 6],\n",
            "        [7, 8, 9]])\n",
            "2nd square bracket:tensor([1, 2, 3])\n",
            "3rd square bracket:1\n"
          ]
        }
      ]
    },
    {
      "cell_type": "code",
      "source": [
        "import torch\n",
        "rand_tens = torch.rand(7,7)\n",
        "rand_tens2 = torch.rand(1,7)\n",
        "matrixm = torch.matmul(rand_tens,rand_tens2.T)\n",
        "matrixm"
      ],
      "metadata": {
        "colab": {
          "base_uri": "https://localhost:8080/"
        },
        "id": "k-mqIeSnhKtx",
        "outputId": "1b393d14-507b-4413-8145-5b6c6fc7d9bf"
      },
      "execution_count": null,
      "outputs": [
        {
          "output_type": "execute_result",
          "data": {
            "text/plain": [
              "tensor([[1.1198],\n",
              "        [0.9144],\n",
              "        [0.8527],\n",
              "        [0.8358],\n",
              "        [1.7485],\n",
              "        [1.1006],\n",
              "        [1.3293]])"
            ]
          },
          "metadata": {},
          "execution_count": 2
        }
      ]
    },
    {
      "cell_type": "code",
      "source": [
        "torch.manual_seed(0)\n",
        "rand_tens = torch.rand(7,7)\n",
        "\n",
        "\n",
        "rand_tens2 = torch.rand(1,7)\n",
        "\n",
        "matrixmm = torch.matmul(rand_tens, rand_tens2.T)\n",
        "matrixmm"
      ],
      "metadata": {
        "colab": {
          "base_uri": "https://localhost:8080/"
        },
        "id": "zu0OgRD1UqmK",
        "outputId": "a658129f-7786-4eb0-8f89-1e81dbebfbda"
      },
      "execution_count": null,
      "outputs": [
        {
          "output_type": "execute_result",
          "data": {
            "text/plain": [
              "tensor([[1.8542],\n",
              "        [1.9611],\n",
              "        [2.2884],\n",
              "        [3.0481],\n",
              "        [1.7067],\n",
              "        [2.5290],\n",
              "        [1.7989]])"
            ]
          },
          "metadata": {},
          "execution_count": 6
        }
      ]
    }
  ]
}