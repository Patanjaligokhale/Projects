{
  "nbformat": 4,
  "nbformat_minor": 0,
  "metadata": {
    "colab": {
      "provenance": [],
      "authorship_tag": "ABX9TyMQdm3QW+5rbyubu3W/wRiy",
      "include_colab_link": true
    },
    "kernelspec": {
      "name": "python3",
      "display_name": "Python 3"
    },
    "language_info": {
      "name": "python"
    }
  },
  "cells": [
    {
      "cell_type": "markdown",
      "metadata": {
        "id": "view-in-github",
        "colab_type": "text"
      },
      "source": [
        "<a href=\"https://colab.research.google.com/github/Patanjaligokhale/Projects/blob/main/Sudoku.ipynb\" target=\"_parent\"><img src=\"https://colab.research.google.com/assets/colab-badge.svg\" alt=\"Open In Colab\"/></a>"
      ]
    },
    {
      "cell_type": "code",
      "execution_count": 1,
      "metadata": {
        "id": "MHKioYLENZqe"
      },
      "outputs": [],
      "source": [
        "import numpy as np"
      ]
    },
    {
      "cell_type": "code",
      "source": [
        "grid = [[5,3,0,0,7,0,0,0,0],\n",
        "        [6,0,0,1,9,5,0,0,0],\n",
        "        [0,9,8,0,0,0,0,6,0],\n",
        "        [8,0,0,0,6,0,0,0,3],\n",
        "        [4,0,0,8,0,3,0,0,1],\n",
        "        [7,0,0,0,2,0,0,0,6],\n",
        "        [0,6,0,0,0,0,2,8,0],\n",
        "        [0,0,0,4,1,9,0,0,5],\n",
        "        [0,0,0,0,8,0,0,0,0]]\n",
        "\n",
        "#print(np.matrix(grid))"
      ],
      "metadata": {
        "id": "zjDiK6hFN8HT"
      },
      "execution_count": 2,
      "outputs": []
    },
    {
      "cell_type": "code",
      "source": [
        "def valid(row,column, number):\n",
        "  global grid\n",
        "\n",
        "  # checking if the number is appearing on the given row\n",
        "  for i in range(0,9):\n",
        "    if grid[row][i] == number:\n",
        "      return False\n",
        "\n",
        "  # checking if the number is any of the columns\n",
        "  for i in range(0,9):\n",
        "    if grid[i][column] == number:\n",
        "      return False\n",
        "\n",
        "  # checking if the number is in the square\n",
        "  x0 = (column//3)*3\n",
        "  y0 = (row//3)*3\n",
        "\n",
        "  for i in range(0,3):\n",
        "    for j in range(0,3):\n",
        "      if grid[y0+i] [x0+j] == number:\n",
        "        return False\n",
        "\n",
        "  return True\n",
        "\n"
      ],
      "metadata": {
        "id": "lvigKMRvXkQr"
      },
      "execution_count": 3,
      "outputs": []
    },
    {
      "cell_type": "code",
      "source": [
        "def solve():\n",
        "  global grid\n",
        "  for row in range(0,9):\n",
        "    for column in range(0,9):\n",
        "      if grid[row][column] == 0:\n",
        "        for number in range(1,10):\n",
        "          if valid(row,column,number):\n",
        "            grid[row][column] = number\n",
        "            solve()\n",
        "            grid[row][column] = 0\n",
        "        return\n",
        "\n",
        "\n",
        "  print(np.matrix(grid))\n",
        "  input('more possible solutions')\n",
        "\n",
        "solve()"
      ],
      "metadata": {
        "colab": {
          "base_uri": "https://localhost:8080/"
        },
        "id": "JDfZLOyiP-h9",
        "outputId": "7c4865b4-0657-4228-885e-e810676bd84d"
      },
      "execution_count": 6,
      "outputs": [
        {
          "name": "stdout",
          "output_type": "stream",
          "text": [
            "[[5 3 4 6 7 8 1 9 2]\n",
            " [6 7 2 1 9 5 3 4 8]\n",
            " [1 9 8 3 4 2 5 6 7]\n",
            " [8 5 9 7 6 1 4 2 3]\n",
            " [4 2 6 8 5 3 9 7 1]\n",
            " [7 1 3 9 2 4 8 5 6]\n",
            " [9 6 1 5 3 7 2 8 4]\n",
            " [2 8 7 4 1 9 6 3 5]\n",
            " [3 4 5 2 8 6 7 1 9]]\n",
            "more possible solutions\n",
            "[[5 3 4 6 7 8 9 1 2]\n",
            " [6 7 2 1 9 5 3 4 8]\n",
            " [1 9 8 3 4 2 5 6 7]\n",
            " [8 5 9 7 6 1 4 2 3]\n",
            " [4 2 6 8 5 3 7 9 1]\n",
            " [7 1 3 9 2 4 8 5 6]\n",
            " [9 6 1 5 3 7 2 8 4]\n",
            " [2 8 7 4 1 9 6 3 5]\n",
            " [3 4 5 2 8 6 1 7 9]]\n",
            "more possible solutions\n"
          ]
        }
      ]
    }
  ]
}